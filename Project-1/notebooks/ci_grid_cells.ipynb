{
 "cells": [
  {
   "cell_type": "markdown",
   "metadata": {},
   "source": [
    "# Conformally Isometric Grid Cells \n",
    "\n",
    "1. Use RatInABox toolkit to generate data, figure out sequence length \n",
    "\n",
    "2. Build (vanilla) RNN model, using pytorch"
   ]
  },
  {
   "cell_type": "code",
   "execution_count": null,
   "metadata": {},
   "outputs": [],
   "source": [
    "!conda list "
   ]
  },
  {
   "cell_type": "code",
   "execution_count": 12,
   "metadata": {},
   "outputs": [],
   "source": [
    "import ratinabox\n",
    "from ratinabox.Environment import Environment\n",
    "from ratinabox.Agent import Agent\n",
    "\n",
    "import pandas as pd \n",
    "import numpy as np\n",
    "\n",
    "import torch \n",
    "import torch.nn as nn \n",
    "\n",
    "path = \"../latex/figures/\"\n",
    "ratinabox.stylize_plots()\n",
    "ratinabox.autosave_plots = False\n",
    "ratinabox.figure_directory = path "
   ]
  },
  {
   "cell_type": "code",
   "execution_count": 19,
   "metadata": {},
   "outputs": [],
   "source": [
    "# Set up default experiment \n",
    "env = Environment()\n",
    "ag = Agent(env)\n",
    "\n",
    "for i in range(int(60 / ag.dt)):\n",
    "    ag.update()\n",
    "\n",
    "df = pd.DataFrame(ag.history)"
   ]
  },
  {
   "cell_type": "markdown",
   "metadata": {},
   "source": [
    "Use Dataloader to set up? Or put into arrays as:"
   ]
  },
  {
   "cell_type": "code",
   "execution_count": 53,
   "metadata": {},
   "outputs": [],
   "source": [
    "t = df[\"t\"]\n",
    "\n",
    "X = np.array(df[\"vel\"].values.tolist())\n",
    "y = np.array(df[\"pos\"].values.tolist())\n",
    "\n",
    "X_batch = X[0:4, :]\n",
    "y_batch = y[0:4, :]"
   ]
  },
  {
   "cell_type": "markdown",
   "metadata": {},
   "source": [
    "Set up basic RNN, how to handle the output (number of neurons)?\n"
   ]
  }
 ],
 "metadata": {
  "kernelspec": {
   "display_name": "fys_stk4155",
   "language": "python",
   "name": "python3"
  },
  "language_info": {
   "codemirror_mode": {
    "name": "ipython",
    "version": 3
   },
   "file_extension": ".py",
   "mimetype": "text/x-python",
   "name": "python",
   "nbconvert_exporter": "python",
   "pygments_lexer": "ipython3",
   "version": "3.12.1"
  }
 },
 "nbformat": 4,
 "nbformat_minor": 2
}
