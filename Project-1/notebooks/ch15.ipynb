{
 "cells": [
  {
   "cell_type": "code",
   "execution_count": 1,
   "metadata": {},
   "outputs": [],
   "source": [
    "import pandas as pd \n",
    "import numpy as np\n",
    "\n",
    "import torch \n",
    "import torch.nn as nn "
   ]
  },
  {
   "cell_type": "code",
   "execution_count": 6,
   "metadata": {},
   "outputs": [
    {
     "name": "stdout",
     "output_type": "stream",
     "text": [
      "Time step 0\n",
      "\tInput: [[1. 1. 1. 1. 1.]]\n",
      "\tHidden: [[ 0.77436364 -0.24785577]]\n",
      "\tOutput (man): [[0.46045098 0.31688327]]\n",
      "\tRNN output [[0.46045098 0.31688327]]\n",
      "Time step 1\n",
      "\tInput: [[2. 2. 2. 2. 2.]]\n",
      "\tHidden: [[ 0.94551873 -0.3629105 ]]\n",
      "\tOutput (man): [[0.43861043 0.09192572]]\n",
      "\tRNN output [[0.43861043 0.09192572]]\n",
      "Time step 2\n",
      "\tInput: [[3. 3. 3. 3. 3.]]\n",
      "\tHidden: [[ 1.1166734 -0.4779653]]\n",
      "\tOutput (man): [[ 0.5597848  -0.07771561]]\n",
      "\tRNN output [[ 0.5597848  -0.07771561]]\n"
     ]
    }
   ],
   "source": [
    "torch.manual_seed(2024)\n",
    "\n",
    "rnn_layer = nn.RNN(input_size=5, hidden_size=2, num_layers=1, batch_first=True)\n",
    "w_xh = rnn_layer.weight_ih_l0\n",
    "w_hh = rnn_layer.weight_hh_l0\n",
    "b_xh = rnn_layer.bias_ih_l0\n",
    "b_hh = rnn_layer.bias_hh_l0 \n",
    "\n",
    "x_seq = torch.tensor([[1.0]*5, [2.0]*5, [3.0]*5]).float()\n",
    "output, hn = rnn_layer(torch.reshape(x_seq, (1, 3, 5)))\n",
    "\n",
    "out_man = []\n",
    "for t in range(3):\n",
    "    print(f\"Time step {t}\") \n",
    "\n",
    "    xt = torch.reshape(x_seq[t], (1, 5))\n",
    "    print(f\"\\tInput: {xt.numpy()}\")\n",
    "\n",
    "    ht = torch.matmul(xt, torch.transpose(w_xh, 0, 1)) + b_xh \n",
    "    print(f\"\\tHidden: {ht.detach().numpy()}\")\n",
    "\n",
    "    if t > 0: \n",
    "        prev_h = out_man[t-1]\n",
    "    else:\n",
    "        prev_h = torch.zeros((ht.shape))\n",
    "    ot = ht + torch.matmul(prev_h, torch.transpose(w_hh, 0, 1)) + b_hh\n",
    "    ot = torch.tanh(ot)\n",
    "    out_man.append(ot)\n",
    "\n",
    "    print(f\"\\tOutput (man): {ot.detach().numpy()}\")\n",
    "    print(f\"\\tRNN output {output[:, t].detach().numpy()}\")"
   ]
  },
  {
   "cell_type": "markdown",
   "metadata": {},
   "source": [
    "Read introduction in Raschka chapter 15 - Modeling Sequential Data Using Recurrent Networks, continue on page 504."
   ]
  }
 ],
 "metadata": {
  "kernelspec": {
   "display_name": "project-1",
   "language": "python",
   "name": "python3"
  },
  "language_info": {
   "codemirror_mode": {
    "name": "ipython",
    "version": 3
   },
   "file_extension": ".py",
   "mimetype": "text/x-python",
   "name": "python",
   "nbconvert_exporter": "python",
   "pygments_lexer": "ipython3",
   "version": "3.12.1"
  }
 },
 "nbformat": 4,
 "nbformat_minor": 2
}
