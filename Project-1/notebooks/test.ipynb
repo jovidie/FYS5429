{
 "cells": [
  {
   "cell_type": "code",
   "execution_count": 130,
   "metadata": {},
   "outputs": [],
   "source": [
    "import ratinabox\n",
    "from ratinabox.Environment import Environment\n",
    "from ratinabox.Agent import Agent\n",
    "\n",
    "path = \"../latex/figures/\"\n",
    "ratinabox.stylize_plots()\n",
    "ratinabox.autosave_plots = False\n",
    "ratinabox.figure_directory = path "
   ]
  },
  {
   "cell_type": "code",
   "execution_count": 131,
   "metadata": {},
   "outputs": [],
   "source": [
    "import torch \n",
    "from torch.utils.data import TensorDataset, DataLoader"
   ]
  },
  {
   "cell_type": "code",
   "execution_count": 132,
   "metadata": {},
   "outputs": [],
   "source": [
    "batch_size = 10\n",
    "seq_length = 10\n",
    "# filename = \"../data/tensor.pt\"\n",
    "x = torch.zeros([batch_size, seq_length, 2], dtype=torch.float32)\n",
    "y = torch.zeros([batch_size, seq_length, 2], dtype=torch.float32)\n",
    "for i in range(batch_size):\n",
    "    env = Environment()\n",
    "    ag = Agent(env)\n",
    "\n",
    "    for _ in range(seq_length):\n",
    "        ag.update()\n",
    "\n",
    "    x[i, :, :] = torch.tensor(ag.history[\"vel\"])\n",
    "    y[i, :, :] = torch.tensor(ag.history[\"pos\"])"
   ]
  },
  {
   "cell_type": "code",
   "execution_count": 133,
   "metadata": {},
   "outputs": [],
   "source": [
    "# Pre-process data? If so, do it before creating a dataloader:"
   ]
  },
  {
   "cell_type": "code",
   "execution_count": 134,
   "metadata": {},
   "outputs": [],
   "source": [
    "joint_data = TensorDataset(x, y)\n",
    "data_loader = DataLoader(dataset=joint_data, batch_size=batch_size, shuffle=True)"
   ]
  },
  {
   "cell_type": "code",
   "execution_count": 135,
   "metadata": {},
   "outputs": [],
   "source": [
    "# print(joint_data.shape)\n",
    "# for e in data_loader:\n",
    "#     print(f\"x: {e[0]} \\ty: {e[1]}\")\n",
    "# print(data_loader)"
   ]
  },
  {
   "cell_type": "code",
   "execution_count": 136,
   "metadata": {},
   "outputs": [],
   "source": [
    "import torch.nn as nn \n",
    "learning_rate = 0.01\n",
    "num_epochs = 200\n",
    "hidden_size = 7\n",
    "\n",
    "loss_func = nn.MSELoss(reduction=\"mean\")\n",
    "input_size = 2\n",
    "output_size = 2\n",
    "model = nn.RNN(input_size=input_size, hidden_size=hidden_size, num_layers=1, batch_first=True, device=\"cpu\")\n",
    "decoder = nn.Linear(in_features=hidden_size, out_features=2, bias=False)\n",
    "optimizer = torch.optim.Adam(model.parameters(), lr=learning_rate)"
   ]
  },
  {
   "cell_type": "code",
   "execution_count": 137,
   "metadata": {},
   "outputs": [
    {
     "name": "stdout",
     "output_type": "stream",
     "text": [
      "Epoch 0 - Loss 0.1885\n",
      "Epoch 10 - Loss 0.1008\n",
      "Epoch 20 - Loss 0.0926\n",
      "Epoch 30 - Loss 0.0880\n",
      "Epoch 40 - Loss 0.0850\n",
      "Epoch 50 - Loss 0.0834\n",
      "Epoch 60 - Loss 0.0818\n",
      "Epoch 70 - Loss 0.0804\n",
      "Epoch 80 - Loss 0.0789\n",
      "Epoch 90 - Loss 0.0774\n",
      "Epoch 100 - Loss 0.0758\n",
      "Epoch 110 - Loss 0.0740\n",
      "Epoch 120 - Loss 0.0724\n",
      "Epoch 130 - Loss 0.0711\n",
      "Epoch 140 - Loss 0.0705\n",
      "Epoch 150 - Loss 0.0703\n",
      "Epoch 160 - Loss 0.0700\n",
      "Epoch 170 - Loss 0.0698\n",
      "Epoch 180 - Loss 0.0696\n",
      "Epoch 190 - Loss 0.0693\n"
     ]
    }
   ],
   "source": [
    "for epoch in range(num_epochs):\n",
    "    for x_batch, y_batch in data_loader:\n",
    "        # Get the predicted element equivalent to model(x_batch)[:, 0]\n",
    "        out_h, hh = model(x_batch)\n",
    "        y_tilde = decoder(out_h)\n",
    "        \n",
    "        # Calculate the loss using the correct dimension\n",
    "        loss = loss_func(y_tilde, y_batch)\n",
    "        loss.backward()\n",
    "        optimizer.step()\n",
    "        optimizer.zero_grad()\n",
    "\n",
    "    if epoch % 10 == 0:\n",
    "        print(f\"Epoch {epoch} - Loss {loss.item():.4f}\")"
   ]
  },
  {
   "cell_type": "code",
   "execution_count": 138,
   "metadata": {},
   "outputs": [
    {
     "name": "stdout",
     "output_type": "stream",
     "text": [
      "Final parameters: \n",
      "Parameter containing:\n",
      "tensor([[ 0.1724, -0.1250,  0.2072,  0.0754, -0.5647, -0.2983,  0.2464],\n",
      "        [-0.0325,  0.0788,  0.3482,  0.3240,  0.1991, -0.1280, -0.0411],\n",
      "        [-0.2819, -0.1946, -0.1826, -0.2290,  0.6963, -0.0125, -0.3485],\n",
      "        [-0.1102,  0.2959, -0.1769,  0.0104,  0.0740,  0.0656,  0.3512],\n",
      "        [-0.0530,  0.5506,  0.0928,  0.0869,  0.5118, -0.1982,  0.0176],\n",
      "        [-0.2265, -0.0243, -0.1660, -0.3903, -0.4364, -0.0331,  0.2918],\n",
      "        [-0.0861,  0.2550, -0.0671,  0.1549,  0.0787, -0.3048,  0.1203]],\n",
      "       requires_grad=True)\n"
     ]
    }
   ],
   "source": [
    "print(f\"Final parameters: \\n{model.get_parameter(\"weight_hh_l0\")}\")"
   ]
  },
  {
   "cell_type": "code",
   "execution_count": 141,
   "metadata": {},
   "outputs": [
    {
     "data": {
      "text/plain": [
       "(10, 10, 2)"
      ]
     },
     "execution_count": 141,
     "metadata": {},
     "output_type": "execute_result"
    }
   ],
   "source": [
    "import matplotlib.pyplot as plt\n",
    "pred_traj = y_tilde.detach().numpy()\n",
    "true_traj = y_batch.detach().numpy()\n",
    "pred_traj.shape"
   ]
  },
  {
   "cell_type": "code",
   "execution_count": 143,
   "metadata": {},
   "outputs": [
    {
     "data": {
      "text/plain": [
       "[<matplotlib.lines.Line2D at 0x7f914f698140>]"
      ]
     },
     "execution_count": 143,
     "metadata": {},
     "output_type": "execute_result"
    },
    {
     "data": {
      "image/png": "[encoded data removed]",
      "text/plain": [
       "<Figure size 200x200 with 1 Axes>"
      ]
     },
     "metadata": {},
     "output_type": "display_data"
    }
   ],
   "source": [
    "fig, ax = plt.subplots()\n",
    "ax.plot(pred_traj[1, :, 0], pred_traj[1, :, 1])\n",
    "ax.plot(true_traj[1, :, 0], true_traj[1, :, 1])"
   ]
  },
  {
   "cell_type": "code",
   "execution_count": 140,
   "metadata": {},
   "outputs": [
    {
     "data": {
      "image/png": "[encoded data removed]",
      "text/plain": [
       "<Figure size 200x200 with 1 Axes>"
      ]
     },
     "metadata": {},
     "output_type": "display_data"
    }
   ],
   "source": [
    "fig, ax = plt.subplots()\n",
    "for i in range(batch_size):\n",
    "    x = pred_traj[i, :, 0]\n",
    "    y = pred_traj[i, :, 1]\n",
    "    ax.plot(x, y)"
   ]
  }
 ],
 "metadata": {
  "kernelspec": {
   "display_name": "fys5429",
   "language": "python",
   "name": "python3"
  },
  "language_info": {
   "codemirror_mode": {
    "name": "ipython",
    "version": 3
   },
   "file_extension": ".py",
   "mimetype": "text/x-python",
   "name": "python",
   "nbconvert_exporter": "python",
   "pygments_lexer": "ipython3",
   "version": "3.12.2"
  }
 },
 "nbformat": 4,
 "nbformat_minor": 2
}
