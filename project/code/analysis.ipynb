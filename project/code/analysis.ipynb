{
 "cells": [
  {
   "cell_type": "markdown",
   "metadata": {},
   "source": [
    "## FYS5429 Project \n",
    "\n",
    "1. How will an RNN model, trained on synthetic data, perform on experimental data?\n",
    "2. Can an increase in steps of trajectory affect prediction, and is there a point where the number of steps make the performance poor when considering efficiency?\n",
    "3. Does incresing the number of input features, including head direction and/or velocity, decrease the loss and increase precision of the prediction?\n",
    "4. When considering the biological circuit, will an increase in hidden layers similar to MEC-Hipp affect the model prediction?\n"
   ]
  },
  {
   "cell_type": "code",
   "execution_count": 1,
   "metadata": {},
   "outputs": [],
   "source": [
    "import numpy as np\n",
    "import matplotlib.pyplot as plt\n",
    "\n",
    "import torch\n",
    "import torch.nn as nn\n",
    "from torch.utils.data import DataLoader\n",
    "\n",
    "from utils import synthetic_dataset, experimental_dataset, load_dataset\n",
    "from model import SimpleRNN"
   ]
  },
  {
   "cell_type": "code",
   "execution_count": 4,
   "metadata": {},
   "outputs": [],
   "source": [
    "epochs = np.arange(500, 10500, 500)\n",
    "learning_rates = np.array([1e-7, 1e-6, 1e-5, 1e-4, 1e-3, 1e-2, 1e-1])\n",
    "computed_loss = np.zeros((epochs.size, learning_rates.size))"
   ]
  },
  {
   "cell_type": "code",
   "execution_count": 3,
   "metadata": {},
   "outputs": [],
   "source": [
    "batch_size=20\n",
    "data = load_dataset(100, 20)\n",
    "dl = DataLoader(data, batch_size)"
   ]
  },
  {
   "cell_type": "code",
   "execution_count": null,
   "metadata": {},
   "outputs": [],
   "source": [
    "for i, n_epochs in enumerate(epochs):\n",
    "    for j, lr in enumerate(learning_rates):\n",
    "        model = SimpleRNN(n_epochs=n_epochs, learning_rate=lr)\n",
    "        computed_loss[i, j] = model.train(dl)"
   ]
  }
 ],
 "metadata": {
  "kernelspec": {
   "display_name": "fys5429",
   "language": "python",
   "name": "python3"
  },
  "language_info": {
   "codemirror_mode": {
    "name": "ipython",
    "version": 3
   },
   "file_extension": ".py",
   "mimetype": "text/x-python",
   "name": "python",
   "nbconvert_exporter": "python",
   "pygments_lexer": "ipython3",
   "version": "3.12.2"
  }
 },
 "nbformat": 4,
 "nbformat_minor": 2
}
