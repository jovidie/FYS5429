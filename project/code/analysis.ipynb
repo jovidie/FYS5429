{
 "cells": [
  {
   "cell_type": "markdown",
   "metadata": {},
   "source": [
    "## FYS5429 Project \n",
    "\n",
    "1. How will an RNN model, trained on synthetic data, perform on experimental data?\n",
    "2. Can an increase in steps of trajectory affect prediction, and is there a point where the number of steps make the performance poor when considering efficiency?\n",
    "3. Does incresing the number of input features, including head direction and/or velocity, decrease the loss and increase precision of the prediction?\n",
    "4. When considering the biological circuit, will an increase in hidden layers similar to MEC-Hipp affect the model prediction?\n"
   ]
  },
  {
   "cell_type": "code",
   "execution_count": null,
   "metadata": {},
   "outputs": [],
   "source": []
  }
 ],
 "metadata": {
  "language_info": {
   "name": "python"
  }
 },
 "nbformat": 4,
 "nbformat_minor": 2
}
